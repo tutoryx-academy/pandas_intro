{
 "cells": [
  {
   "cell_type": "code",
   "execution_count": 1,
   "metadata": {},
   "outputs": [],
   "source": [
    "import pandas as pd\n",
    "import numpy as np"
   ]
  },
  {
   "cell_type": "code",
   "execution_count": 27,
   "metadata": {},
   "outputs": [],
   "source": [
    "df = pd.read_csv('sample_hours_rate.csv'\n",
    "                #  ,index_col='name'\n",
    "                 )"
   ]
  },
  {
   "cell_type": "code",
   "execution_count": 17,
   "metadata": {},
   "outputs": [],
   "source": [
    "pd.set_option('display.max_rows', 500)"
   ]
  },
  {
   "cell_type": "code",
   "execution_count": 18,
   "metadata": {},
   "outputs": [
    {
     "data": {
      "text/plain": [
       "500"
      ]
     },
     "execution_count": 18,
     "metadata": {},
     "output_type": "execute_result"
    }
   ],
   "source": [
    "pd.options.display.max_rows"
   ]
  },
  {
   "cell_type": "code",
   "execution_count": 28,
   "metadata": {},
   "outputs": [
    {
     "data": {
      "text/plain": [
       "30"
      ]
     },
     "execution_count": 28,
     "metadata": {},
     "output_type": "execute_result"
    }
   ],
   "source": [
    "df.size"
   ]
  },
  {
   "cell_type": "code",
   "execution_count": 29,
   "metadata": {},
   "outputs": [
    {
     "data": {
      "text/plain": [
       "(10, 3)"
      ]
     },
     "execution_count": 29,
     "metadata": {},
     "output_type": "execute_result"
    }
   ],
   "source": [
    "df.shape"
   ]
  },
  {
   "cell_type": "code",
   "execution_count": 30,
   "metadata": {},
   "outputs": [
    {
     "data": {
      "text/plain": [
       "RangeIndex(start=0, stop=10, step=1)"
      ]
     },
     "execution_count": 30,
     "metadata": {},
     "output_type": "execute_result"
    }
   ],
   "source": [
    "df.index"
   ]
  },
  {
   "cell_type": "code",
   "execution_count": 31,
   "metadata": {},
   "outputs": [
    {
     "data": {
      "text/html": [
       "<div>\n",
       "<style scoped>\n",
       "    .dataframe tbody tr th:only-of-type {\n",
       "        vertical-align: middle;\n",
       "    }\n",
       "\n",
       "    .dataframe tbody tr th {\n",
       "        vertical-align: top;\n",
       "    }\n",
       "\n",
       "    .dataframe thead th {\n",
       "        text-align: right;\n",
       "    }\n",
       "</style>\n",
       "<table border=\"1\" class=\"dataframe\">\n",
       "  <thead>\n",
       "    <tr style=\"text-align: right;\">\n",
       "      <th></th>\n",
       "      <th>name</th>\n",
       "      <th>hours</th>\n",
       "      <th>rate</th>\n",
       "    </tr>\n",
       "  </thead>\n",
       "  <tbody>\n",
       "    <tr>\n",
       "      <th>0</th>\n",
       "      <td>Katell Bryan</td>\n",
       "      <td>50</td>\n",
       "      <td>$41.94</td>\n",
       "    </tr>\n",
       "    <tr>\n",
       "      <th>1</th>\n",
       "      <td>Addison Walters</td>\n",
       "      <td>45</td>\n",
       "      <td>$15.26</td>\n",
       "    </tr>\n",
       "    <tr>\n",
       "      <th>2</th>\n",
       "      <td>Veda Stein</td>\n",
       "      <td>36</td>\n",
       "      <td>$34.19</td>\n",
       "    </tr>\n",
       "    <tr>\n",
       "      <th>3</th>\n",
       "      <td>Jocelyn Shaw</td>\n",
       "      <td>36</td>\n",
       "      <td>$16.13</td>\n",
       "    </tr>\n",
       "    <tr>\n",
       "      <th>4</th>\n",
       "      <td>Shelley Waters</td>\n",
       "      <td>42</td>\n",
       "      <td>$37.78</td>\n",
       "    </tr>\n",
       "  </tbody>\n",
       "</table>\n",
       "</div>"
      ],
      "text/plain": [
       "              name  hours    rate\n",
       "0     Katell Bryan     50  $41.94\n",
       "1  Addison Walters     45  $15.26\n",
       "2       Veda Stein     36  $34.19\n",
       "3     Jocelyn Shaw     36  $16.13\n",
       "4   Shelley Waters     42  $37.78"
      ]
     },
     "execution_count": 31,
     "metadata": {},
     "output_type": "execute_result"
    }
   ],
   "source": [
    "df.head()"
   ]
  },
  {
   "cell_type": "code",
   "execution_count": 32,
   "metadata": {},
   "outputs": [
    {
     "data": {
      "text/html": [
       "<div>\n",
       "<style scoped>\n",
       "    .dataframe tbody tr th:only-of-type {\n",
       "        vertical-align: middle;\n",
       "    }\n",
       "\n",
       "    .dataframe tbody tr th {\n",
       "        vertical-align: top;\n",
       "    }\n",
       "\n",
       "    .dataframe thead th {\n",
       "        text-align: right;\n",
       "    }\n",
       "</style>\n",
       "<table border=\"1\" class=\"dataframe\">\n",
       "  <thead>\n",
       "    <tr style=\"text-align: right;\">\n",
       "      <th></th>\n",
       "      <th>name</th>\n",
       "      <th>hours</th>\n",
       "      <th>rate</th>\n",
       "    </tr>\n",
       "  </thead>\n",
       "  <tbody>\n",
       "    <tr>\n",
       "      <th>5</th>\n",
       "      <td>Arthur Frederick</td>\n",
       "      <td>23</td>\n",
       "      <td>$24.61</td>\n",
       "    </tr>\n",
       "    <tr>\n",
       "      <th>6</th>\n",
       "      <td>Hollee Stanley</td>\n",
       "      <td>41</td>\n",
       "      <td>$23.98</td>\n",
       "    </tr>\n",
       "    <tr>\n",
       "      <th>7</th>\n",
       "      <td>Brennan Avery</td>\n",
       "      <td>40</td>\n",
       "      <td>$39.47</td>\n",
       "    </tr>\n",
       "    <tr>\n",
       "      <th>8</th>\n",
       "      <td>Dacey Goodwin</td>\n",
       "      <td>15</td>\n",
       "      <td>$44.42</td>\n",
       "    </tr>\n",
       "    <tr>\n",
       "      <th>9</th>\n",
       "      <td>Karyn Harding</td>\n",
       "      <td>46</td>\n",
       "      <td>$49.01</td>\n",
       "    </tr>\n",
       "  </tbody>\n",
       "</table>\n",
       "</div>"
      ],
      "text/plain": [
       "               name  hours    rate\n",
       "5  Arthur Frederick     23  $24.61\n",
       "6    Hollee Stanley     41  $23.98\n",
       "7     Brennan Avery     40  $39.47\n",
       "8     Dacey Goodwin     15  $44.42\n",
       "9     Karyn Harding     46  $49.01"
      ]
     },
     "execution_count": 32,
     "metadata": {},
     "output_type": "execute_result"
    }
   ],
   "source": [
    "df.tail()"
   ]
  },
  {
   "cell_type": "code",
   "execution_count": 35,
   "metadata": {},
   "outputs": [],
   "source": [
    "df.set_index('name',inplace=True)"
   ]
  },
  {
   "cell_type": "code",
   "execution_count": 36,
   "metadata": {},
   "outputs": [
    {
     "data": {
      "text/html": [
       "<div>\n",
       "<style scoped>\n",
       "    .dataframe tbody tr th:only-of-type {\n",
       "        vertical-align: middle;\n",
       "    }\n",
       "\n",
       "    .dataframe tbody tr th {\n",
       "        vertical-align: top;\n",
       "    }\n",
       "\n",
       "    .dataframe thead th {\n",
       "        text-align: right;\n",
       "    }\n",
       "</style>\n",
       "<table border=\"1\" class=\"dataframe\">\n",
       "  <thead>\n",
       "    <tr style=\"text-align: right;\">\n",
       "      <th></th>\n",
       "      <th>hours</th>\n",
       "      <th>rate</th>\n",
       "    </tr>\n",
       "    <tr>\n",
       "      <th>name</th>\n",
       "      <th></th>\n",
       "      <th></th>\n",
       "    </tr>\n",
       "  </thead>\n",
       "  <tbody>\n",
       "    <tr>\n",
       "      <th>Katell Bryan</th>\n",
       "      <td>50</td>\n",
       "      <td>$41.94</td>\n",
       "    </tr>\n",
       "    <tr>\n",
       "      <th>Addison Walters</th>\n",
       "      <td>45</td>\n",
       "      <td>$15.26</td>\n",
       "    </tr>\n",
       "    <tr>\n",
       "      <th>Veda Stein</th>\n",
       "      <td>36</td>\n",
       "      <td>$34.19</td>\n",
       "    </tr>\n",
       "    <tr>\n",
       "      <th>Jocelyn Shaw</th>\n",
       "      <td>36</td>\n",
       "      <td>$16.13</td>\n",
       "    </tr>\n",
       "    <tr>\n",
       "      <th>Shelley Waters</th>\n",
       "      <td>42</td>\n",
       "      <td>$37.78</td>\n",
       "    </tr>\n",
       "  </tbody>\n",
       "</table>\n",
       "</div>"
      ],
      "text/plain": [
       "                 hours    rate\n",
       "name                          \n",
       "Katell Bryan        50  $41.94\n",
       "Addison Walters     45  $15.26\n",
       "Veda Stein          36  $34.19\n",
       "Jocelyn Shaw        36  $16.13\n",
       "Shelley Waters      42  $37.78"
      ]
     },
     "execution_count": 36,
     "metadata": {},
     "output_type": "execute_result"
    }
   ],
   "source": [
    "df.head()"
   ]
  },
  {
   "cell_type": "code",
   "execution_count": 37,
   "metadata": {},
   "outputs": [
    {
     "data": {
      "text/plain": [
       "hours     int64\n",
       "rate     object\n",
       "dtype: object"
      ]
     },
     "execution_count": 37,
     "metadata": {},
     "output_type": "execute_result"
    }
   ],
   "source": [
    "df.dtypes"
   ]
  },
  {
   "cell_type": "code",
   "execution_count": 39,
   "metadata": {},
   "outputs": [],
   "source": [
    "df.reset_index(inplace=True)"
   ]
  },
  {
   "cell_type": "code",
   "execution_count": 40,
   "metadata": {},
   "outputs": [
    {
     "data": {
      "text/html": [
       "<div>\n",
       "<style scoped>\n",
       "    .dataframe tbody tr th:only-of-type {\n",
       "        vertical-align: middle;\n",
       "    }\n",
       "\n",
       "    .dataframe tbody tr th {\n",
       "        vertical-align: top;\n",
       "    }\n",
       "\n",
       "    .dataframe thead th {\n",
       "        text-align: right;\n",
       "    }\n",
       "</style>\n",
       "<table border=\"1\" class=\"dataframe\">\n",
       "  <thead>\n",
       "    <tr style=\"text-align: right;\">\n",
       "      <th></th>\n",
       "      <th>name</th>\n",
       "      <th>hours</th>\n",
       "      <th>rate</th>\n",
       "    </tr>\n",
       "  </thead>\n",
       "  <tbody>\n",
       "    <tr>\n",
       "      <th>0</th>\n",
       "      <td>Katell Bryan</td>\n",
       "      <td>50</td>\n",
       "      <td>$41.94</td>\n",
       "    </tr>\n",
       "    <tr>\n",
       "      <th>1</th>\n",
       "      <td>Addison Walters</td>\n",
       "      <td>45</td>\n",
       "      <td>$15.26</td>\n",
       "    </tr>\n",
       "    <tr>\n",
       "      <th>2</th>\n",
       "      <td>Veda Stein</td>\n",
       "      <td>36</td>\n",
       "      <td>$34.19</td>\n",
       "    </tr>\n",
       "    <tr>\n",
       "      <th>3</th>\n",
       "      <td>Jocelyn Shaw</td>\n",
       "      <td>36</td>\n",
       "      <td>$16.13</td>\n",
       "    </tr>\n",
       "    <tr>\n",
       "      <th>4</th>\n",
       "      <td>Shelley Waters</td>\n",
       "      <td>42</td>\n",
       "      <td>$37.78</td>\n",
       "    </tr>\n",
       "    <tr>\n",
       "      <th>5</th>\n",
       "      <td>Arthur Frederick</td>\n",
       "      <td>23</td>\n",
       "      <td>$24.61</td>\n",
       "    </tr>\n",
       "    <tr>\n",
       "      <th>6</th>\n",
       "      <td>Hollee Stanley</td>\n",
       "      <td>41</td>\n",
       "      <td>$23.98</td>\n",
       "    </tr>\n",
       "    <tr>\n",
       "      <th>7</th>\n",
       "      <td>Brennan Avery</td>\n",
       "      <td>40</td>\n",
       "      <td>$39.47</td>\n",
       "    </tr>\n",
       "    <tr>\n",
       "      <th>8</th>\n",
       "      <td>Dacey Goodwin</td>\n",
       "      <td>15</td>\n",
       "      <td>$44.42</td>\n",
       "    </tr>\n",
       "    <tr>\n",
       "      <th>9</th>\n",
       "      <td>Karyn Harding</td>\n",
       "      <td>46</td>\n",
       "      <td>$49.01</td>\n",
       "    </tr>\n",
       "  </tbody>\n",
       "</table>\n",
       "</div>"
      ],
      "text/plain": [
       "               name  hours    rate\n",
       "0      Katell Bryan     50  $41.94\n",
       "1   Addison Walters     45  $15.26\n",
       "2        Veda Stein     36  $34.19\n",
       "3      Jocelyn Shaw     36  $16.13\n",
       "4    Shelley Waters     42  $37.78\n",
       "5  Arthur Frederick     23  $24.61\n",
       "6    Hollee Stanley     41  $23.98\n",
       "7     Brennan Avery     40  $39.47\n",
       "8     Dacey Goodwin     15  $44.42\n",
       "9     Karyn Harding     46  $49.01"
      ]
     },
     "execution_count": 40,
     "metadata": {},
     "output_type": "execute_result"
    }
   ],
   "source": [
    "df"
   ]
  },
  {
   "cell_type": "code",
   "execution_count": 41,
   "metadata": {},
   "outputs": [
    {
     "data": {
      "text/plain": [
       "array([['Katell Bryan', 50, '$41.94'],\n",
       "       ['Addison Walters', 45, '$15.26'],\n",
       "       ['Veda Stein', 36, '$34.19'],\n",
       "       ['Jocelyn Shaw', 36, '$16.13'],\n",
       "       ['Shelley Waters', 42, '$37.78'],\n",
       "       ['Arthur Frederick', 23, '$24.61'],\n",
       "       ['Hollee Stanley', 41, '$23.98'],\n",
       "       ['Brennan Avery', 40, '$39.47'],\n",
       "       ['Dacey Goodwin', 15, '$44.42'],\n",
       "       ['Karyn Harding', 46, '$49.01']], dtype=object)"
      ]
     },
     "execution_count": 41,
     "metadata": {},
     "output_type": "execute_result"
    }
   ],
   "source": [
    "df_numpy = df.to_numpy()\n",
    "df_numpy"
   ]
  },
  {
   "cell_type": "code",
   "execution_count": 48,
   "metadata": {},
   "outputs": [],
   "source": [
    "df_numpy_hours = df_numpy[:,1]"
   ]
  },
  {
   "cell_type": "code",
   "execution_count": 52,
   "metadata": {},
   "outputs": [
    {
     "data": {
      "text/plain": [
       "array([50, 45, 36, 36, 42, 23, 41, 40, 15, 46], dtype=object)"
      ]
     },
     "execution_count": 52,
     "metadata": {},
     "output_type": "execute_result"
    }
   ],
   "source": [
    "df_numpy_hours"
   ]
  },
  {
   "cell_type": "code",
   "execution_count": 51,
   "metadata": {},
   "outputs": [
    {
     "data": {
      "text/plain": [
       "np.float64(37.4)"
      ]
     },
     "execution_count": 51,
     "metadata": {},
     "output_type": "execute_result"
    }
   ],
   "source": [
    "df_numpy_hours.mean()"
   ]
  },
  {
   "cell_type": "code",
   "execution_count": 53,
   "metadata": {},
   "outputs": [],
   "source": [
    "df_numpy_rate = df_numpy[:,2]"
   ]
  },
  {
   "cell_type": "code",
   "execution_count": 57,
   "metadata": {},
   "outputs": [
    {
     "data": {
      "text/plain": [
       "'41.94'"
      ]
     },
     "execution_count": 57,
     "metadata": {},
     "output_type": "execute_result"
    }
   ],
   "source": [
    "df_numpy_rate[0][1:]"
   ]
  },
  {
   "cell_type": "code",
   "execution_count": 70,
   "metadata": {},
   "outputs": [
    {
     "ename": "TypeError",
     "evalue": "'float' object is not subscriptable",
     "output_type": "error",
     "traceback": [
      "\u001b[0;31m---------------------------------------------------------------------------\u001b[0m",
      "\u001b[0;31mTypeError\u001b[0m                                 Traceback (most recent call last)",
      "Cell \u001b[0;32mIn[70], line 4\u001b[0m\n\u001b[1;32m      1\u001b[0m rate_list \u001b[38;5;241m=\u001b[39m []\n\u001b[1;32m      2\u001b[0m \u001b[38;5;28;01mfor\u001b[39;00m rate \u001b[38;5;129;01min\u001b[39;00m df_numpy_rate:\n\u001b[1;32m      3\u001b[0m     \u001b[38;5;66;03m# print(rate[1:])\u001b[39;00m\n\u001b[0;32m----> 4\u001b[0m     rate_list\u001b[38;5;241m.\u001b[39mappend(\u001b[43mrate\u001b[49m\u001b[43m[\u001b[49m\u001b[38;5;241;43m1\u001b[39;49m\u001b[43m:\u001b[49m\u001b[43m]\u001b[49m)\n\u001b[1;32m      5\u001b[0m rate_list\n",
      "\u001b[0;31mTypeError\u001b[0m: 'float' object is not subscriptable"
     ]
    }
   ],
   "source": [
    "rate_list = []\n",
    "for rate in df_numpy_rate:\n",
    "    # print(rate[1:])\n",
    "    rate_list.append(float(rate[1:]))\n",
    "rate_list"
   ]
  },
  {
   "cell_type": "code",
   "execution_count": 66,
   "metadata": {},
   "outputs": [
    {
     "data": {
      "text/plain": [
       "array([41.94, 15.26, 34.19, 16.13, 37.78, 24.61, 23.98, 39.47, 44.42,\n",
       "       49.01])"
      ]
     },
     "execution_count": 66,
     "metadata": {},
     "output_type": "execute_result"
    }
   ],
   "source": [
    "df_numpy_rate_array = np.array([float(rate[1:]) for rate in df_numpy_rate ])\n",
    "df_numpy_rate_array"
   ]
  },
  {
   "cell_type": "code",
   "execution_count": 67,
   "metadata": {},
   "outputs": [],
   "source": [
    "df_numpy[:,2] = df_numpy_rate_array"
   ]
  },
  {
   "cell_type": "code",
   "execution_count": 68,
   "metadata": {},
   "outputs": [
    {
     "data": {
      "text/plain": [
       "array([['Katell Bryan', 50, 41.94],\n",
       "       ['Addison Walters', 45, 15.26],\n",
       "       ['Veda Stein', 36, 34.19],\n",
       "       ['Jocelyn Shaw', 36, 16.13],\n",
       "       ['Shelley Waters', 42, 37.78],\n",
       "       ['Arthur Frederick', 23, 24.61],\n",
       "       ['Hollee Stanley', 41, 23.98],\n",
       "       ['Brennan Avery', 40, 39.47],\n",
       "       ['Dacey Goodwin', 15, 44.42],\n",
       "       ['Karyn Harding', 46, 49.01]], dtype=object)"
      ]
     },
     "execution_count": 68,
     "metadata": {},
     "output_type": "execute_result"
    }
   ],
   "source": [
    "df_numpy"
   ]
  },
  {
   "cell_type": "code",
   "execution_count": 69,
   "metadata": {},
   "outputs": [
    {
     "data": {
      "text/plain": [
       "np.float64(32.678999999999995)"
      ]
     },
     "execution_count": 69,
     "metadata": {},
     "output_type": "execute_result"
    }
   ],
   "source": [
    "df_numpy_rate.mean()"
   ]
  }
 ],
 "metadata": {
  "kernelspec": {
   "display_name": "Python 3",
   "language": "python",
   "name": "python3"
  },
  "language_info": {
   "codemirror_mode": {
    "name": "ipython",
    "version": 3
   },
   "file_extension": ".py",
   "mimetype": "text/x-python",
   "name": "python",
   "nbconvert_exporter": "python",
   "pygments_lexer": "ipython3",
   "version": "3.12.1"
  }
 },
 "nbformat": 4,
 "nbformat_minor": 2
}
