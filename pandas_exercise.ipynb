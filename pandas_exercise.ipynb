{
 "cells": [
  {
   "cell_type": "code",
   "execution_count": 1,
   "metadata": {},
   "outputs": [],
   "source": [
    "import pandas as pd\n",
    "import numpy as np"
   ]
  },
  {
   "cell_type": "code",
   "execution_count": 2,
   "metadata": {},
   "outputs": [
    {
     "data": {
      "text/html": [
       "<div>\n",
       "<style scoped>\n",
       "    .dataframe tbody tr th:only-of-type {\n",
       "        vertical-align: middle;\n",
       "    }\n",
       "\n",
       "    .dataframe tbody tr th {\n",
       "        vertical-align: top;\n",
       "    }\n",
       "\n",
       "    .dataframe thead th {\n",
       "        text-align: right;\n",
       "    }\n",
       "</style>\n",
       "<table border=\"1\" class=\"dataframe\">\n",
       "  <thead>\n",
       "    <tr style=\"text-align: right;\">\n",
       "      <th></th>\n",
       "      <th>name</th>\n",
       "      <th>hours</th>\n",
       "      <th>rate</th>\n",
       "    </tr>\n",
       "  </thead>\n",
       "  <tbody>\n",
       "    <tr>\n",
       "      <th>0</th>\n",
       "      <td>Katell Bryan</td>\n",
       "      <td>50</td>\n",
       "      <td>$41.94</td>\n",
       "    </tr>\n",
       "    <tr>\n",
       "      <th>1</th>\n",
       "      <td>Addison Walters</td>\n",
       "      <td>45</td>\n",
       "      <td>$15.26</td>\n",
       "    </tr>\n",
       "    <tr>\n",
       "      <th>2</th>\n",
       "      <td>Veda Stein</td>\n",
       "      <td>36</td>\n",
       "      <td>$34.19</td>\n",
       "    </tr>\n",
       "    <tr>\n",
       "      <th>3</th>\n",
       "      <td>Jocelyn Shaw</td>\n",
       "      <td>36</td>\n",
       "      <td>$16.13</td>\n",
       "    </tr>\n",
       "    <tr>\n",
       "      <th>4</th>\n",
       "      <td>Shelley Waters</td>\n",
       "      <td>42</td>\n",
       "      <td>$37.78</td>\n",
       "    </tr>\n",
       "    <tr>\n",
       "      <th>5</th>\n",
       "      <td>Arthur Frederick</td>\n",
       "      <td>23</td>\n",
       "      <td>$24.61</td>\n",
       "    </tr>\n",
       "    <tr>\n",
       "      <th>6</th>\n",
       "      <td>Hollee Stanley</td>\n",
       "      <td>41</td>\n",
       "      <td>$23.98</td>\n",
       "    </tr>\n",
       "    <tr>\n",
       "      <th>7</th>\n",
       "      <td>Brennan Avery</td>\n",
       "      <td>40</td>\n",
       "      <td>$39.47</td>\n",
       "    </tr>\n",
       "    <tr>\n",
       "      <th>8</th>\n",
       "      <td>Dacey Goodwin</td>\n",
       "      <td>15</td>\n",
       "      <td>$44.42</td>\n",
       "    </tr>\n",
       "    <tr>\n",
       "      <th>9</th>\n",
       "      <td>Karyn Harding</td>\n",
       "      <td>46</td>\n",
       "      <td>$49.01</td>\n",
       "    </tr>\n",
       "  </tbody>\n",
       "</table>\n",
       "</div>"
      ],
      "text/plain": [
       "               name  hours    rate\n",
       "0      Katell Bryan     50  $41.94\n",
       "1   Addison Walters     45  $15.26\n",
       "2        Veda Stein     36  $34.19\n",
       "3      Jocelyn Shaw     36  $16.13\n",
       "4    Shelley Waters     42  $37.78\n",
       "5  Arthur Frederick     23  $24.61\n",
       "6    Hollee Stanley     41  $23.98\n",
       "7     Brennan Avery     40  $39.47\n",
       "8     Dacey Goodwin     15  $44.42\n",
       "9     Karyn Harding     46  $49.01"
      ]
     },
     "execution_count": 2,
     "metadata": {},
     "output_type": "execute_result"
    }
   ],
   "source": [
    "df = pd.read_csv('sample_hours_rate.csv')\n",
    "df"
   ]
  },
  {
   "cell_type": "code",
   "execution_count": 3,
   "metadata": {},
   "outputs": [
    {
     "data": {
      "text/plain": [
       "array([['Katell Bryan', 50, '$41.94'],\n",
       "       ['Addison Walters', 45, '$15.26'],\n",
       "       ['Veda Stein', 36, '$34.19'],\n",
       "       ['Jocelyn Shaw', 36, '$16.13'],\n",
       "       ['Shelley Waters', 42, '$37.78'],\n",
       "       ['Arthur Frederick', 23, '$24.61'],\n",
       "       ['Hollee Stanley', 41, '$23.98'],\n",
       "       ['Brennan Avery', 40, '$39.47'],\n",
       "       ['Dacey Goodwin', 15, '$44.42'],\n",
       "       ['Karyn Harding', 46, '$49.01']], dtype=object)"
      ]
     },
     "execution_count": 3,
     "metadata": {},
     "output_type": "execute_result"
    }
   ],
   "source": [
    "df_numpy = df.to_numpy()\n",
    "df_numpy"
   ]
  },
  {
   "cell_type": "code",
   "execution_count": 5,
   "metadata": {},
   "outputs": [
    {
     "data": {
      "text/plain": [
       "array(['K', 'A', 'V', 'J', 'S', 'A', 'H', 'B', 'D', 'K'], dtype='<U1')"
      ]
     },
     "execution_count": 5,
     "metadata": {},
     "output_type": "execute_result"
    }
   ],
   "source": [
    "df_numpy_name = np.array([name[0] for name in df_numpy[:,0]])\n",
    "df_numpy_name"
   ]
  },
  {
   "cell_type": "code",
   "execution_count": 7,
   "metadata": {},
   "outputs": [],
   "source": [
    "df_numpy[:,0] = df_numpy_name"
   ]
  },
  {
   "cell_type": "code",
   "execution_count": 8,
   "metadata": {},
   "outputs": [
    {
     "data": {
      "text/plain": [
       "array([['K', 50, '$41.94'],\n",
       "       ['A', 45, '$15.26'],\n",
       "       ['V', 36, '$34.19'],\n",
       "       ['J', 36, '$16.13'],\n",
       "       ['S', 42, '$37.78'],\n",
       "       ['A', 23, '$24.61'],\n",
       "       ['H', 41, '$23.98'],\n",
       "       ['B', 40, '$39.47'],\n",
       "       ['D', 15, '$44.42'],\n",
       "       ['K', 46, '$49.01']], dtype=object)"
      ]
     },
     "execution_count": 8,
     "metadata": {},
     "output_type": "execute_result"
    }
   ],
   "source": [
    "df_numpy"
   ]
  },
  {
   "cell_type": "code",
   "execution_count": null,
   "metadata": {},
   "outputs": [],
   "source": [
    "df_numpy_name = np.array([name[0] for name in df_numpy[:,0]]) # use .split method to get firt letters of name and surname\n",
    "df_numpy_name"
   ]
  }
 ],
 "metadata": {
  "kernelspec": {
   "display_name": "Python 3",
   "language": "python",
   "name": "python3"
  },
  "language_info": {
   "codemirror_mode": {
    "name": "ipython",
    "version": 3
   },
   "file_extension": ".py",
   "mimetype": "text/x-python",
   "name": "python",
   "nbconvert_exporter": "python",
   "pygments_lexer": "ipython3",
   "version": "3.12.1"
  }
 },
 "nbformat": 4,
 "nbformat_minor": 2
}
