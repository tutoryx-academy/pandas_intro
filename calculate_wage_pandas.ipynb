{
 "cells": [
  {
   "cell_type": "code",
   "execution_count": 2,
   "metadata": {},
   "outputs": [],
   "source": [
    "import pandas as pd \n",
    "import numpy as np \n",
    "\n",
    "from wage_functions import clean_wage, calculate_wage"
   ]
  },
  {
   "cell_type": "code",
   "execution_count": 12,
   "metadata": {},
   "outputs": [],
   "source": [
    "df = pd.read_csv('hours_rate_date.csv')"
   ]
  },
  {
   "cell_type": "code",
   "execution_count": 4,
   "metadata": {},
   "outputs": [
    {
     "data": {
      "text/html": [
       "<div>\n",
       "<style scoped>\n",
       "    .dataframe tbody tr th:only-of-type {\n",
       "        vertical-align: middle;\n",
       "    }\n",
       "\n",
       "    .dataframe tbody tr th {\n",
       "        vertical-align: top;\n",
       "    }\n",
       "\n",
       "    .dataframe thead th {\n",
       "        text-align: right;\n",
       "    }\n",
       "</style>\n",
       "<table border=\"1\" class=\"dataframe\">\n",
       "  <thead>\n",
       "    <tr style=\"text-align: right;\">\n",
       "      <th></th>\n",
       "      <th>Name</th>\n",
       "      <th>Month</th>\n",
       "      <th>Total Hours</th>\n",
       "      <th>Average Rate</th>\n",
       "    </tr>\n",
       "  </thead>\n",
       "  <tbody>\n",
       "    <tr>\n",
       "      <th>0</th>\n",
       "      <td>Alice</td>\n",
       "      <td>2024-01-01</td>\n",
       "      <td>245</td>\n",
       "      <td>$25.00</td>\n",
       "    </tr>\n",
       "    <tr>\n",
       "      <th>1</th>\n",
       "      <td>Alice</td>\n",
       "      <td>2024-02-01</td>\n",
       "      <td>224</td>\n",
       "      <td>26.00 $</td>\n",
       "    </tr>\n",
       "    <tr>\n",
       "      <th>2</th>\n",
       "      <td>Alice</td>\n",
       "      <td>2024-03-01</td>\n",
       "      <td>250</td>\n",
       "      <td>$27.00</td>\n",
       "    </tr>\n",
       "    <tr>\n",
       "      <th>3</th>\n",
       "      <td>Bob</td>\n",
       "      <td>2024-01-01</td>\n",
       "      <td>240</td>\n",
       "      <td>€22.50</td>\n",
       "    </tr>\n",
       "    <tr>\n",
       "      <th>4</th>\n",
       "      <td>Bob</td>\n",
       "      <td>2024-02-01</td>\n",
       "      <td>230</td>\n",
       "      <td>€ 23.00</td>\n",
       "    </tr>\n",
       "  </tbody>\n",
       "</table>\n",
       "</div>"
      ],
      "text/plain": [
       "    Name       Month  Total Hours Average Rate\n",
       "0  Alice  2024-01-01          245       $25.00\n",
       "1  Alice  2024-02-01          224     26.00 $ \n",
       "2  Alice  2024-03-01          250       $27.00\n",
       "3    Bob  2024-01-01          240       €22.50\n",
       "4    Bob  2024-02-01          230      € 23.00"
      ]
     },
     "execution_count": 4,
     "metadata": {},
     "output_type": "execute_result"
    }
   ],
   "source": [
    "df.head()"
   ]
  },
  {
   "cell_type": "code",
   "execution_count": 5,
   "metadata": {},
   "outputs": [
    {
     "data": {
      "text/plain": [
       "Index(['Name', 'Month', 'Total Hours', 'Average Rate'], dtype='object')"
      ]
     },
     "execution_count": 5,
     "metadata": {},
     "output_type": "execute_result"
    }
   ],
   "source": [
    "df.columns"
   ]
  },
  {
   "cell_type": "code",
   "execution_count": 6,
   "metadata": {},
   "outputs": [
    {
     "data": {
      "text/plain": [
       "0       $25.00\n",
       "1     26.00 $ \n",
       "2       $27.00\n",
       "3       €22.50\n",
       "4      € 23.00\n",
       "5      24.00 €\n",
       "6       $30.00\n",
       "7       $31.00\n",
       "8       $32.00\n",
       "9       £28.50\n",
       "10      £29.00\n",
       "11     30.00£ \n",
       "Name: Average Rate, dtype: object"
      ]
     },
     "execution_count": 6,
     "metadata": {},
     "output_type": "execute_result"
    }
   ],
   "source": [
    "df['Average Rate']"
   ]
  },
  {
   "cell_type": "code",
   "execution_count": 13,
   "metadata": {},
   "outputs": [],
   "source": [
    "df['Rate']=df['Average Rate'].apply(lambda x: clean_wage(x))"
   ]
  },
  {
   "cell_type": "code",
   "execution_count": 14,
   "metadata": {},
   "outputs": [
    {
     "data": {
      "text/html": [
       "<div>\n",
       "<style scoped>\n",
       "    .dataframe tbody tr th:only-of-type {\n",
       "        vertical-align: middle;\n",
       "    }\n",
       "\n",
       "    .dataframe tbody tr th {\n",
       "        vertical-align: top;\n",
       "    }\n",
       "\n",
       "    .dataframe thead th {\n",
       "        text-align: right;\n",
       "    }\n",
       "</style>\n",
       "<table border=\"1\" class=\"dataframe\">\n",
       "  <thead>\n",
       "    <tr style=\"text-align: right;\">\n",
       "      <th></th>\n",
       "      <th>Name</th>\n",
       "      <th>Month</th>\n",
       "      <th>Total Hours</th>\n",
       "      <th>Average Rate</th>\n",
       "      <th>Rate</th>\n",
       "    </tr>\n",
       "  </thead>\n",
       "  <tbody>\n",
       "    <tr>\n",
       "      <th>0</th>\n",
       "      <td>Alice</td>\n",
       "      <td>2024-01-01</td>\n",
       "      <td>245</td>\n",
       "      <td>$25.00</td>\n",
       "      <td>25.00</td>\n",
       "    </tr>\n",
       "    <tr>\n",
       "      <th>1</th>\n",
       "      <td>Alice</td>\n",
       "      <td>2024-02-01</td>\n",
       "      <td>224</td>\n",
       "      <td>26.00 $</td>\n",
       "      <td>26.00</td>\n",
       "    </tr>\n",
       "    <tr>\n",
       "      <th>2</th>\n",
       "      <td>Alice</td>\n",
       "      <td>2024-03-01</td>\n",
       "      <td>250</td>\n",
       "      <td>$27.00</td>\n",
       "      <td>27.00</td>\n",
       "    </tr>\n",
       "    <tr>\n",
       "      <th>3</th>\n",
       "      <td>Bob</td>\n",
       "      <td>2024-01-01</td>\n",
       "      <td>240</td>\n",
       "      <td>€22.50</td>\n",
       "      <td>22.50</td>\n",
       "    </tr>\n",
       "    <tr>\n",
       "      <th>4</th>\n",
       "      <td>Bob</td>\n",
       "      <td>2024-02-01</td>\n",
       "      <td>230</td>\n",
       "      <td>€ 23.00</td>\n",
       "      <td>23.00</td>\n",
       "    </tr>\n",
       "    <tr>\n",
       "      <th>5</th>\n",
       "      <td>Bob</td>\n",
       "      <td>2024-03-01</td>\n",
       "      <td>245</td>\n",
       "      <td>24.00 €</td>\n",
       "      <td>24.00</td>\n",
       "    </tr>\n",
       "    <tr>\n",
       "      <th>6</th>\n",
       "      <td>Charlie</td>\n",
       "      <td>2024-01-01</td>\n",
       "      <td>255</td>\n",
       "      <td>$30.00</td>\n",
       "      <td>30.00</td>\n",
       "    </tr>\n",
       "    <tr>\n",
       "      <th>7</th>\n",
       "      <td>Charlie</td>\n",
       "      <td>2024-02-01</td>\n",
       "      <td>238</td>\n",
       "      <td>$31.00</td>\n",
       "      <td>31.00</td>\n",
       "    </tr>\n",
       "    <tr>\n",
       "      <th>8</th>\n",
       "      <td>Charlie</td>\n",
       "      <td>2024-03-01</td>\n",
       "      <td>260</td>\n",
       "      <td>$32.00</td>\n",
       "      <td>32.00</td>\n",
       "    </tr>\n",
       "    <tr>\n",
       "      <th>9</th>\n",
       "      <td>Diana</td>\n",
       "      <td>2024-01-01</td>\n",
       "      <td>220</td>\n",
       "      <td>£28.50</td>\n",
       "      <td>28.50</td>\n",
       "    </tr>\n",
       "    <tr>\n",
       "      <th>10</th>\n",
       "      <td>Diana</td>\n",
       "      <td>2024-02-01</td>\n",
       "      <td>235</td>\n",
       "      <td>£29.00</td>\n",
       "      <td>29.00</td>\n",
       "    </tr>\n",
       "    <tr>\n",
       "      <th>11</th>\n",
       "      <td>Diana</td>\n",
       "      <td>2024-03-01</td>\n",
       "      <td>210</td>\n",
       "      <td>30.00£</td>\n",
       "      <td>30.00</td>\n",
       "    </tr>\n",
       "  </tbody>\n",
       "</table>\n",
       "</div>"
      ],
      "text/plain": [
       "       Name       Month  Total Hours Average Rate   Rate\n",
       "0     Alice  2024-01-01          245       $25.00  25.00\n",
       "1     Alice  2024-02-01          224     26.00 $   26.00\n",
       "2     Alice  2024-03-01          250       $27.00  27.00\n",
       "3       Bob  2024-01-01          240       €22.50  22.50\n",
       "4       Bob  2024-02-01          230      € 23.00  23.00\n",
       "5       Bob  2024-03-01          245      24.00 €  24.00\n",
       "6   Charlie  2024-01-01          255       $30.00  30.00\n",
       "7   Charlie  2024-02-01          238       $31.00  31.00\n",
       "8   Charlie  2024-03-01          260       $32.00  32.00\n",
       "9     Diana  2024-01-01          220       £28.50  28.50\n",
       "10    Diana  2024-02-01          235       £29.00  29.00\n",
       "11    Diana  2024-03-01          210      30.00£   30.00"
      ]
     },
     "execution_count": 14,
     "metadata": {},
     "output_type": "execute_result"
    }
   ],
   "source": [
    "df"
   ]
  },
  {
   "cell_type": "code",
   "execution_count": 23,
   "metadata": {},
   "outputs": [],
   "source": [
    "# x['Total Hours'], x['Rate']\n",
    "df['Wage'] = df.apply(lambda x: calculate_wage(x['Total Hours'], x['Rate']), axis=1)"
   ]
  },
  {
   "cell_type": "code",
   "execution_count": 29,
   "metadata": {},
   "outputs": [],
   "source": [
    "df.to_csv('calculated_hours_rate_date.csv', index=False, float_format='%.2f',)"
   ]
  },
  {
   "cell_type": "code",
   "execution_count": 32,
   "metadata": {},
   "outputs": [],
   "source": [
    "def calculate_all_wages(wage_file:str)->pd.DataFrame:\n",
    "    df = pd.read_csv(wage_file)\n",
    "    df['Rate']=df['Average Rate'].apply(lambda x: clean_wage(x))\n",
    "    df.drop('Average Rate',inplace=True, axis=1)\n",
    "    df['Wage'] = df.apply(lambda x: calculate_wage(x['Total Hours'], x['Rate']), axis=1)\n",
    "    return df"
   ]
  },
  {
   "cell_type": "code",
   "execution_count": 71,
   "metadata": {},
   "outputs": [],
   "source": [
    "df_calculated = calculate_all_wages('hours_rate_date.csv')"
   ]
  },
  {
   "cell_type": "code",
   "execution_count": 61,
   "metadata": {},
   "outputs": [
    {
     "data": {
      "text/html": [
       "<div>\n",
       "<style scoped>\n",
       "    .dataframe tbody tr th:only-of-type {\n",
       "        vertical-align: middle;\n",
       "    }\n",
       "\n",
       "    .dataframe tbody tr th {\n",
       "        vertical-align: top;\n",
       "    }\n",
       "\n",
       "    .dataframe thead th {\n",
       "        text-align: right;\n",
       "    }\n",
       "</style>\n",
       "<table border=\"1\" class=\"dataframe\">\n",
       "  <thead>\n",
       "    <tr style=\"text-align: right;\">\n",
       "      <th></th>\n",
       "      <th>Name</th>\n",
       "      <th>Month</th>\n",
       "      <th>Total Hours</th>\n",
       "      <th>Rate</th>\n",
       "      <th>Wage</th>\n",
       "    </tr>\n",
       "  </thead>\n",
       "  <tbody>\n",
       "    <tr>\n",
       "      <th>0</th>\n",
       "      <td>Alice</td>\n",
       "      <td>2024-01-01</td>\n",
       "      <td>245</td>\n",
       "      <td>25.00</td>\n",
       "      <td>7021.250</td>\n",
       "    </tr>\n",
       "    <tr>\n",
       "      <th>1</th>\n",
       "      <td>Alice</td>\n",
       "      <td>2024-02-01</td>\n",
       "      <td>224</td>\n",
       "      <td>26.00</td>\n",
       "      <td>6483.100</td>\n",
       "    </tr>\n",
       "    <tr>\n",
       "      <th>2</th>\n",
       "      <td>Alice</td>\n",
       "      <td>2024-03-01</td>\n",
       "      <td>250</td>\n",
       "      <td>27.00</td>\n",
       "      <td>7785.450</td>\n",
       "    </tr>\n",
       "    <tr>\n",
       "      <th>3</th>\n",
       "      <td>Bob</td>\n",
       "      <td>2024-01-01</td>\n",
       "      <td>240</td>\n",
       "      <td>22.50</td>\n",
       "      <td>6150.375</td>\n",
       "    </tr>\n",
       "    <tr>\n",
       "      <th>4</th>\n",
       "      <td>Bob</td>\n",
       "      <td>2024-02-01</td>\n",
       "      <td>230</td>\n",
       "      <td>23.00</td>\n",
       "      <td>5942.050</td>\n",
       "    </tr>\n",
       "    <tr>\n",
       "      <th>5</th>\n",
       "      <td>Bob</td>\n",
       "      <td>2024-03-01</td>\n",
       "      <td>245</td>\n",
       "      <td>24.00</td>\n",
       "      <td>6740.400</td>\n",
       "    </tr>\n",
       "    <tr>\n",
       "      <th>6</th>\n",
       "      <td>Charlie</td>\n",
       "      <td>2024-01-01</td>\n",
       "      <td>255</td>\n",
       "      <td>30.00</td>\n",
       "      <td>8875.500</td>\n",
       "    </tr>\n",
       "    <tr>\n",
       "      <th>7</th>\n",
       "      <td>Charlie</td>\n",
       "      <td>2024-02-01</td>\n",
       "      <td>238</td>\n",
       "      <td>31.00</td>\n",
       "      <td>8380.850</td>\n",
       "    </tr>\n",
       "    <tr>\n",
       "      <th>8</th>\n",
       "      <td>Charlie</td>\n",
       "      <td>2024-03-01</td>\n",
       "      <td>260</td>\n",
       "      <td>32.00</td>\n",
       "      <td>9707.200</td>\n",
       "    </tr>\n",
       "    <tr>\n",
       "      <th>9</th>\n",
       "      <td>Diana</td>\n",
       "      <td>2024-01-01</td>\n",
       "      <td>220</td>\n",
       "      <td>28.50</td>\n",
       "      <td>6935.475</td>\n",
       "    </tr>\n",
       "    <tr>\n",
       "      <th>10</th>\n",
       "      <td>Diana</td>\n",
       "      <td>2024-02-01</td>\n",
       "      <td>235</td>\n",
       "      <td>29.00</td>\n",
       "      <td>7709.650</td>\n",
       "    </tr>\n",
       "    <tr>\n",
       "      <th>11</th>\n",
       "      <td>Diana</td>\n",
       "      <td>2024-03-01</td>\n",
       "      <td>210</td>\n",
       "      <td>30.00</td>\n",
       "      <td>6850.500</td>\n",
       "    </tr>\n",
       "  </tbody>\n",
       "</table>\n",
       "</div>"
      ],
      "text/plain": [
       "       Name       Month  Total Hours   Rate      Wage\n",
       "0     Alice  2024-01-01          245  25.00  7021.250\n",
       "1     Alice  2024-02-01          224  26.00  6483.100\n",
       "2     Alice  2024-03-01          250  27.00  7785.450\n",
       "3       Bob  2024-01-01          240  22.50  6150.375\n",
       "4       Bob  2024-02-01          230  23.00  5942.050\n",
       "5       Bob  2024-03-01          245  24.00  6740.400\n",
       "6   Charlie  2024-01-01          255  30.00  8875.500\n",
       "7   Charlie  2024-02-01          238  31.00  8380.850\n",
       "8   Charlie  2024-03-01          260  32.00  9707.200\n",
       "9     Diana  2024-01-01          220  28.50  6935.475\n",
       "10    Diana  2024-02-01          235  29.00  7709.650\n",
       "11    Diana  2024-03-01          210  30.00  6850.500"
      ]
     },
     "execution_count": 61,
     "metadata": {},
     "output_type": "execute_result"
    }
   ],
   "source": [
    "df_calculated"
   ]
  },
  {
   "cell_type": "code",
   "execution_count": 88,
   "metadata": {},
   "outputs": [],
   "source": [
    "monthly_wages = df.groupby('Month')['Wage'].sum().reset_index()"
   ]
  },
  {
   "cell_type": "code",
   "execution_count": 89,
   "metadata": {},
   "outputs": [
    {
     "data": {
      "text/html": [
       "<div>\n",
       "<style scoped>\n",
       "    .dataframe tbody tr th:only-of-type {\n",
       "        vertical-align: middle;\n",
       "    }\n",
       "\n",
       "    .dataframe tbody tr th {\n",
       "        vertical-align: top;\n",
       "    }\n",
       "\n",
       "    .dataframe thead th {\n",
       "        text-align: right;\n",
       "    }\n",
       "</style>\n",
       "<table border=\"1\" class=\"dataframe\">\n",
       "  <thead>\n",
       "    <tr style=\"text-align: right;\">\n",
       "      <th></th>\n",
       "      <th>Month</th>\n",
       "      <th>Wage</th>\n",
       "    </tr>\n",
       "  </thead>\n",
       "  <tbody>\n",
       "    <tr>\n",
       "      <th>0</th>\n",
       "      <td>2024-01-01</td>\n",
       "      <td>28982.60</td>\n",
       "    </tr>\n",
       "    <tr>\n",
       "      <th>1</th>\n",
       "      <td>2024-02-01</td>\n",
       "      <td>28515.65</td>\n",
       "    </tr>\n",
       "    <tr>\n",
       "      <th>2</th>\n",
       "      <td>2024-03-01</td>\n",
       "      <td>31083.55</td>\n",
       "    </tr>\n",
       "  </tbody>\n",
       "</table>\n",
       "</div>"
      ],
      "text/plain": [
       "        Month      Wage\n",
       "0  2024-01-01  28982.60\n",
       "1  2024-02-01  28515.65\n",
       "2  2024-03-01  31083.55"
      ]
     },
     "execution_count": 89,
     "metadata": {},
     "output_type": "execute_result"
    }
   ],
   "source": [
    "monthly_wages"
   ]
  },
  {
   "cell_type": "code",
   "execution_count": 44,
   "metadata": {},
   "outputs": [
    {
     "data": {
      "text/plain": [
       "Month     object\n",
       "Wage     float64\n",
       "dtype: object"
      ]
     },
     "execution_count": 44,
     "metadata": {},
     "output_type": "execute_result"
    }
   ],
   "source": [
    "monthly_wages.dtypes"
   ]
  },
  {
   "cell_type": "code",
   "execution_count": 92,
   "metadata": {},
   "outputs": [],
   "source": [
    "monthly_wages['Month'] = pd.to_datetime(monthly_wages['Month'])"
   ]
  },
  {
   "cell_type": "code",
   "execution_count": 93,
   "metadata": {},
   "outputs": [
    {
     "data": {
      "text/plain": [
       "Month    datetime64[ns]\n",
       "Wage            float64\n",
       "dtype: object"
      ]
     },
     "execution_count": 93,
     "metadata": {},
     "output_type": "execute_result"
    }
   ],
   "source": [
    "monthly_wages.dtypes"
   ]
  },
  {
   "cell_type": "code",
   "execution_count": 94,
   "metadata": {},
   "outputs": [
    {
     "data": {
      "text/plain": [
       "0    1\n",
       "1    2\n",
       "2    3\n",
       "Name: Month, dtype: int32"
      ]
     },
     "execution_count": 94,
     "metadata": {},
     "output_type": "execute_result"
    }
   ],
   "source": [
    "monthly_wages['Month'].dt.month"
   ]
  },
  {
   "cell_type": "code",
   "execution_count": 95,
   "metadata": {},
   "outputs": [],
   "source": [
    "monthly_wages.sort_values('Month',ascending=False,inplace=True)"
   ]
  },
  {
   "cell_type": "code",
   "execution_count": 96,
   "metadata": {},
   "outputs": [
    {
     "data": {
      "text/html": [
       "<div>\n",
       "<style scoped>\n",
       "    .dataframe tbody tr th:only-of-type {\n",
       "        vertical-align: middle;\n",
       "    }\n",
       "\n",
       "    .dataframe tbody tr th {\n",
       "        vertical-align: top;\n",
       "    }\n",
       "\n",
       "    .dataframe thead th {\n",
       "        text-align: right;\n",
       "    }\n",
       "</style>\n",
       "<table border=\"1\" class=\"dataframe\">\n",
       "  <thead>\n",
       "    <tr style=\"text-align: right;\">\n",
       "      <th></th>\n",
       "      <th>Month</th>\n",
       "      <th>Wage</th>\n",
       "    </tr>\n",
       "  </thead>\n",
       "  <tbody>\n",
       "    <tr>\n",
       "      <th>2</th>\n",
       "      <td>2024-03-01</td>\n",
       "      <td>31083.55</td>\n",
       "    </tr>\n",
       "    <tr>\n",
       "      <th>1</th>\n",
       "      <td>2024-02-01</td>\n",
       "      <td>28515.65</td>\n",
       "    </tr>\n",
       "    <tr>\n",
       "      <th>0</th>\n",
       "      <td>2024-01-01</td>\n",
       "      <td>28982.60</td>\n",
       "    </tr>\n",
       "  </tbody>\n",
       "</table>\n",
       "</div>"
      ],
      "text/plain": [
       "       Month      Wage\n",
       "2 2024-03-01  31083.55\n",
       "1 2024-02-01  28515.65\n",
       "0 2024-01-01  28982.60"
      ]
     },
     "execution_count": 96,
     "metadata": {},
     "output_type": "execute_result"
    }
   ],
   "source": [
    "monthly_wages"
   ]
  },
  {
   "cell_type": "code",
   "execution_count": 98,
   "metadata": {},
   "outputs": [],
   "source": [
    "monthly_wages['Month-Year']=monthly_wages['Month'].dt.month.astype('str')+'-'+monthly_wages['Month'].dt.year.astype('str')"
   ]
  },
  {
   "cell_type": "code",
   "execution_count": 99,
   "metadata": {},
   "outputs": [
    {
     "data": {
      "text/html": [
       "<div>\n",
       "<style scoped>\n",
       "    .dataframe tbody tr th:only-of-type {\n",
       "        vertical-align: middle;\n",
       "    }\n",
       "\n",
       "    .dataframe tbody tr th {\n",
       "        vertical-align: top;\n",
       "    }\n",
       "\n",
       "    .dataframe thead th {\n",
       "        text-align: right;\n",
       "    }\n",
       "</style>\n",
       "<table border=\"1\" class=\"dataframe\">\n",
       "  <thead>\n",
       "    <tr style=\"text-align: right;\">\n",
       "      <th></th>\n",
       "      <th>Month</th>\n",
       "      <th>Wage</th>\n",
       "      <th>Month-Year</th>\n",
       "    </tr>\n",
       "  </thead>\n",
       "  <tbody>\n",
       "    <tr>\n",
       "      <th>2</th>\n",
       "      <td>2024-03-01</td>\n",
       "      <td>31083.55</td>\n",
       "      <td>3-2024</td>\n",
       "    </tr>\n",
       "    <tr>\n",
       "      <th>1</th>\n",
       "      <td>2024-02-01</td>\n",
       "      <td>28515.65</td>\n",
       "      <td>2-2024</td>\n",
       "    </tr>\n",
       "    <tr>\n",
       "      <th>0</th>\n",
       "      <td>2024-01-01</td>\n",
       "      <td>28982.60</td>\n",
       "      <td>1-2024</td>\n",
       "    </tr>\n",
       "  </tbody>\n",
       "</table>\n",
       "</div>"
      ],
      "text/plain": [
       "       Month      Wage Month-Year\n",
       "2 2024-03-01  31083.55     3-2024\n",
       "1 2024-02-01  28515.65     2-2024\n",
       "0 2024-01-01  28982.60     1-2024"
      ]
     },
     "execution_count": 99,
     "metadata": {},
     "output_type": "execute_result"
    }
   ],
   "source": [
    "monthly_wages"
   ]
  },
  {
   "cell_type": "code",
   "execution_count": 100,
   "metadata": {},
   "outputs": [],
   "source": [
    "monthly_wages.set_index('Month-Year',inplace=True)"
   ]
  },
  {
   "cell_type": "code",
   "execution_count": 101,
   "metadata": {},
   "outputs": [
    {
     "data": {
      "text/html": [
       "<div>\n",
       "<style scoped>\n",
       "    .dataframe tbody tr th:only-of-type {\n",
       "        vertical-align: middle;\n",
       "    }\n",
       "\n",
       "    .dataframe tbody tr th {\n",
       "        vertical-align: top;\n",
       "    }\n",
       "\n",
       "    .dataframe thead th {\n",
       "        text-align: right;\n",
       "    }\n",
       "</style>\n",
       "<table border=\"1\" class=\"dataframe\">\n",
       "  <thead>\n",
       "    <tr style=\"text-align: right;\">\n",
       "      <th></th>\n",
       "      <th>Month</th>\n",
       "      <th>Wage</th>\n",
       "    </tr>\n",
       "    <tr>\n",
       "      <th>Month-Year</th>\n",
       "      <th></th>\n",
       "      <th></th>\n",
       "    </tr>\n",
       "  </thead>\n",
       "  <tbody>\n",
       "    <tr>\n",
       "      <th>3-2024</th>\n",
       "      <td>2024-03-01</td>\n",
       "      <td>31083.55</td>\n",
       "    </tr>\n",
       "    <tr>\n",
       "      <th>2-2024</th>\n",
       "      <td>2024-02-01</td>\n",
       "      <td>28515.65</td>\n",
       "    </tr>\n",
       "    <tr>\n",
       "      <th>1-2024</th>\n",
       "      <td>2024-01-01</td>\n",
       "      <td>28982.60</td>\n",
       "    </tr>\n",
       "  </tbody>\n",
       "</table>\n",
       "</div>"
      ],
      "text/plain": [
       "                Month      Wage\n",
       "Month-Year                     \n",
       "3-2024     2024-03-01  31083.55\n",
       "2-2024     2024-02-01  28515.65\n",
       "1-2024     2024-01-01  28982.60"
      ]
     },
     "execution_count": 101,
     "metadata": {},
     "output_type": "execute_result"
    }
   ],
   "source": [
    "monthly_wages"
   ]
  },
  {
   "cell_type": "code",
   "execution_count": 104,
   "metadata": {},
   "outputs": [],
   "source": [
    "monthly_wages.reset_index(inplace=True)"
   ]
  },
  {
   "cell_type": "code",
   "execution_count": 106,
   "metadata": {},
   "outputs": [
    {
     "data": {
      "text/plain": [
       "<Axes: title={'center': 'Wages per month'}>"
      ]
     },
     "execution_count": 106,
     "metadata": {},
     "output_type": "execute_result"
    },
    {
     "data": {
      "image/png": "[encoded data removed]",
      "text/plain": [
       "<Figure size 800x500 with 1 Axes>"
      ]
     },
     "metadata": {},
     "output_type": "display_data"
    }
   ],
   "source": [
    "monthly_wages['Month'].plot(kind='bar',figsize=(8,5), title='Wages per month')"
   ]
  }
 ],
 "metadata": {
  "kernelspec": {
   "display_name": ".env",
   "language": "python",
   "name": "python3"
  },
  "language_info": {
   "codemirror_mode": {
    "name": "ipython",
    "version": 3
   },
   "file_extension": ".py",
   "mimetype": "text/x-python",
   "name": "python",
   "nbconvert_exporter": "python",
   "pygments_lexer": "ipython3",
   "version": "3.12.1"
  }
 },
 "nbformat": 4,
 "nbformat_minor": 2
}
