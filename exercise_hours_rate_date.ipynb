{
 "cells": [
  {
   "cell_type": "code",
   "execution_count": 2,
   "metadata": {},
   "outputs": [],
   "source": [
    "import pandas as pd\n",
    "import numpy as np"
   ]
  },
  {
   "cell_type": "code",
   "execution_count": 24,
   "metadata": {},
   "outputs": [],
   "source": [
    "def calculate_wage(hours:float, \n",
    "                   rate:float, \n",
    "                   date_range:str='m')->float:\n",
    "    '''This calculates wage based on hours and rate.\n",
    "        If date_range='m' then regular hours 173.3,\n",
    "        if date_range='w' then regular hours 40! '''\n",
    "    \n",
    "    if date_range=='m':\n",
    "        regular_hours = 173.3\n",
    "    elif date_range=='w':\n",
    "        regular_hours = 40\n",
    "    else:\n",
    "        raise ValueError ('date_range excpets just \"w\" or \"m\" ')\n",
    "        \n",
    "    overtime_multiplier = 1.5\n",
    "\n",
    "    if hours > regular_hours:\n",
    "        regular_wage = regular_hours * rate\n",
    "        overtime_hours = hours - regular_hours\n",
    "        overtime_wage = overtime_hours * rate * overtime_multiplier\n",
    "        total_wage = regular_wage + overtime_wage\n",
    "    else:\n",
    "        total_wage = hours * rate\n",
    "\n",
    "    return total_wage\n"
   ]
  },
  {
   "cell_type": "code",
   "execution_count": 20,
   "metadata": {},
   "outputs": [
    {
     "data": {
      "text/plain": [
       "2133.5"
      ]
     },
     "execution_count": 20,
     "metadata": {},
     "output_type": "execute_result"
    }
   ],
   "source": [
    "173.3 * 10 + 26.7*1.5*10"
   ]
  },
  {
   "cell_type": "code",
   "execution_count": 25,
   "metadata": {},
   "outputs": [
    {
     "data": {
      "text/plain": [
       "2133.5"
      ]
     },
     "execution_count": 25,
     "metadata": {},
     "output_type": "execute_result"
    }
   ],
   "source": [
    "calculate_wage(200,10,'m')"
   ]
  },
  {
   "cell_type": "code",
   "execution_count": 20,
   "metadata": {},
   "outputs": [
    {
     "name": "stdout",
     "output_type": "stream",
     "text": [
      "Alice 2024-01-01 245  $25.00\n",
      "Alice 245 25.00 6125.0\n",
      "Alice 2024-02-01 224 $26.00\n",
      "Alice 224 26.00 5824.0\n",
      "Alice 2024-03-01 250 $27.00\n",
      "Alice 250 27.00 6750.0\n",
      "Bob 2024-01-01 240  €22.50\n",
      "Bob 240 22.50 5400.0\n",
      "Bob 2024-02-01 230 €23.00\n",
      "Bob 230 23.00 5290.0\n",
      "Bob 2024-03-01 245 €24.00\n",
      "Bob 245 24.00 5880.0\n",
      "Charlie 2024-01-01 255 $30.00\n",
      "Charlie 255 30.00 7650.0\n",
      "Charlie 2024-02-01 238 $31.00\n",
      "Charlie 238 31.00 7378.0\n",
      "Charlie 2024-03-01 260  $32.00\n",
      "Charlie 260 32.00 8320.0\n",
      "Diana 2024-01-01 220 £28.50\n",
      "Diana 220 28.50 6270.0\n",
      "Diana 2024-02-01 235 £29.00\n",
      "Diana 235 29.00 6815.0\n",
      "Diana 2024-03-01 210 £30.00\n",
      "Diana 210 30.00 6300.0\n"
     ]
    }
   ],
   "source": [
    "# read the hours_rate_date with open() function\n",
    "with open('hours_rate_date.csv') as employees:\n",
    "    hours = employees.readlines()\n",
    "    for emp in hours[1:]:\n",
    "        # print(emp)\n",
    "        # print(type(emp))\n",
    "        name,date,hours,rate = emp.replace('\\n','').split(',')\n",
    "        print(name,date,hours,rate)\n",
    "        rate = rate.strip()[1:]\n",
    "        # rate = rate[1:]\n",
    "        wage = float(hours) * float(rate)\n",
    "        print(name,hours,rate,wage)"
   ]
  }
 ],
 "metadata": {
  "kernelspec": {
   "display_name": "Python 3",
   "language": "python",
   "name": "python3"
  },
  "language_info": {
   "codemirror_mode": {
    "name": "ipython",
    "version": 3
   },
   "file_extension": ".py",
   "mimetype": "text/x-python",
   "name": "python",
   "nbconvert_exporter": "python",
   "pygments_lexer": "ipython3",
   "version": "3.12.1"
  }
 },
 "nbformat": 4,
 "nbformat_minor": 2
}
