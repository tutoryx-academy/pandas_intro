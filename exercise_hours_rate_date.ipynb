{
 "cells": [
  {
   "cell_type": "code",
   "execution_count": 9,
   "metadata": {},
   "outputs": [],
   "source": [
    "import pandas as pd\n",
    "import numpy as np"
   ]
  },
  {
   "cell_type": "code",
   "execution_count": 10,
   "metadata": {},
   "outputs": [],
   "source": [
    "def calculate_wage(hours:float, \n",
    "                   rate:float, \n",
    "                   date_range:str='m')->float:\n",
    "    '''This calculates wage based on hours and rate.\n",
    "        If date_range='m' then regular hours 173.3,\n",
    "        if date_range='w' then regular hours 40! '''\n",
    "    \n",
    "    if not(isinstance(hours,float) or isinstance(rate,float)):\n",
    "        #update data types if not correct\n",
    "        hours = float(hours)\n",
    "        rate = float(rate)\n",
    "\n",
    "    if date_range=='m':\n",
    "        regular_hours = 173.3\n",
    "    elif date_range=='w':\n",
    "        regular_hours = 40\n",
    "    else:\n",
    "        raise ValueError ('date_range excpets just \"w\" or \"m\" ')\n",
    "        \n",
    "    overtime_multiplier = 1.5\n",
    "\n",
    "    if hours > regular_hours:\n",
    "        regular_wage = regular_hours * rate\n",
    "        overtime_hours = hours - regular_hours\n",
    "        overtime_wage = overtime_hours * rate * overtime_multiplier\n",
    "        total_wage = regular_wage + overtime_wage\n",
    "    else:\n",
    "        total_wage = hours * rate\n",
    "\n",
    "    return total_wage\n"
   ]
  },
  {
   "cell_type": "code",
   "execution_count": 11,
   "metadata": {},
   "outputs": [
    {
     "data": {
      "text/plain": [
       "2133.5"
      ]
     },
     "execution_count": 11,
     "metadata": {},
     "output_type": "execute_result"
    }
   ],
   "source": [
    "173.3 * 10 + 26.7*1.5*10"
   ]
  },
  {
   "cell_type": "code",
   "execution_count": 12,
   "metadata": {},
   "outputs": [
    {
     "data": {
      "text/plain": [
       "2133.5"
      ]
     },
     "execution_count": 12,
     "metadata": {},
     "output_type": "execute_result"
    }
   ],
   "source": [
    "calculate_wage(200,10,'m')"
   ]
  },
  {
   "cell_type": "code",
   "execution_count": 13,
   "metadata": {},
   "outputs": [
    {
     "name": "stdout",
     "output_type": "stream",
     "text": [
      "Alice 2024-01-01 245  $25.00\n",
      "Alice 245 25.00 7021.25\n",
      "Alice 2024-02-01 224 26.00 $\n"
     ]
    },
    {
     "ename": "ValueError",
     "evalue": "could not convert string to float: '6.00 $'",
     "output_type": "error",
     "traceback": [
      "\u001b[0;31m---------------------------------------------------------------------------\u001b[0m",
      "\u001b[0;31mValueError\u001b[0m                                Traceback (most recent call last)",
      "Cell \u001b[0;32mIn[13], line 12\u001b[0m\n\u001b[1;32m      9\u001b[0m rate \u001b[38;5;241m=\u001b[39m rate\u001b[38;5;241m.\u001b[39mstrip()[\u001b[38;5;241m1\u001b[39m:]\n\u001b[1;32m     10\u001b[0m \u001b[38;5;66;03m# rate = rate[1:]\u001b[39;00m\n\u001b[1;32m     11\u001b[0m \u001b[38;5;66;03m# wage = float(hours) * float(rate)\u001b[39;00m\n\u001b[0;32m---> 12\u001b[0m wage \u001b[38;5;241m=\u001b[39m \u001b[43mcalculate_wage\u001b[49m\u001b[43m(\u001b[49m\u001b[43mhours\u001b[49m\u001b[43m,\u001b[49m\u001b[43mrate\u001b[49m\u001b[43m)\u001b[49m\n\u001b[1;32m     13\u001b[0m \u001b[38;5;28mprint\u001b[39m(name,hours,rate,wage)\n",
      "Cell \u001b[0;32mIn[10], line 11\u001b[0m, in \u001b[0;36mcalculate_wage\u001b[0;34m(hours, rate, date_range)\u001b[0m\n\u001b[1;32m      8\u001b[0m \u001b[38;5;28;01mif\u001b[39;00m \u001b[38;5;129;01mnot\u001b[39;00m(\u001b[38;5;28misinstance\u001b[39m(hours,\u001b[38;5;28mfloat\u001b[39m) \u001b[38;5;129;01mor\u001b[39;00m \u001b[38;5;28misinstance\u001b[39m(rate,\u001b[38;5;28mfloat\u001b[39m)):\n\u001b[1;32m      9\u001b[0m     \u001b[38;5;66;03m#update data types if not correct\u001b[39;00m\n\u001b[1;32m     10\u001b[0m     hours \u001b[38;5;241m=\u001b[39m \u001b[38;5;28mfloat\u001b[39m(hours)\n\u001b[0;32m---> 11\u001b[0m     rate \u001b[38;5;241m=\u001b[39m \u001b[38;5;28;43mfloat\u001b[39;49m\u001b[43m(\u001b[49m\u001b[43mrate\u001b[49m\u001b[43m)\u001b[49m\n\u001b[1;32m     13\u001b[0m \u001b[38;5;28;01mif\u001b[39;00m date_range\u001b[38;5;241m==\u001b[39m\u001b[38;5;124m'\u001b[39m\u001b[38;5;124mm\u001b[39m\u001b[38;5;124m'\u001b[39m:\n\u001b[1;32m     14\u001b[0m     regular_hours \u001b[38;5;241m=\u001b[39m \u001b[38;5;241m173.3\u001b[39m\n",
      "\u001b[0;31mValueError\u001b[0m: could not convert string to float: '6.00 $'"
     ]
    }
   ],
   "source": [
    "# read the hours_rate_date with open() function\n",
    "with open('hours_rate_date.csv') as employees:\n",
    "    hours = employees.readlines()\n",
    "    for emp in hours[1:]:\n",
    "        # print(emp)\n",
    "        # print(type(emp))\n",
    "        name,date,hours,rate = emp.replace('\\n','').split(',')\n",
    "        print(name,date,hours,rate)\n",
    "        rate = rate.strip()[1:]\n",
    "        # rate = rate[1:]\n",
    "        # wage = float(hours) * float(rate)\n",
    "        wage = calculate_wage(hours,rate)\n",
    "        print(name,hours,rate,wage)"
   ]
  }
 ],
 "metadata": {
  "kernelspec": {
   "display_name": "Python 3",
   "language": "python",
   "name": "python3"
  },
  "language_info": {
   "codemirror_mode": {
    "name": "ipython",
    "version": 3
   },
   "file_extension": ".py",
   "mimetype": "text/x-python",
   "name": "python",
   "nbconvert_exporter": "python",
   "pygments_lexer": "ipython3",
   "version": "3.12.1"
  }
 },
 "nbformat": 4,
 "nbformat_minor": 2
}
